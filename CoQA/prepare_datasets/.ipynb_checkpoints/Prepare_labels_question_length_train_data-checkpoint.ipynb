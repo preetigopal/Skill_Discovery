{
 "cells": [
  {
   "cell_type": "code",
   "execution_count": 1,
   "metadata": {},
   "outputs": [],
   "source": [
    "import numpy as np\n",
    "from tqdm import tqdm\n",
    "import torch"
   ]
  },
  {
   "cell_type": "code",
   "execution_count": 2,
   "metadata": {},
   "outputs": [],
   "source": [
    "eval_examples = torch.load('../outputs/coqa_examples_train_data.pt')"
   ]
  },
  {
   "cell_type": "code",
   "execution_count": 3,
   "metadata": {},
   "outputs": [
    {
     "name": "stdout",
     "output_type": "stream",
     "text": [
      "<class 'list'>\n"
     ]
    }
   ],
   "source": [
    "len(eval_examples)\n",
    "print(type(eval_examples))"
   ]
  },
  {
   "cell_type": "code",
   "execution_count": 4,
   "metadata": {},
   "outputs": [
    {
     "data": {
      "text/plain": [
       "qas_id: 3zotghdk5ibi9cex97fepx7jetpso7 1, question_text: ['When was the Vat formally opened?'], doc_tokens: [The Vatican Apostolic Library ( ) , more commonly called the Vatican Library or simply the Vat , is the library of the Holy See , located in Vatican City . Formally established in 1475 , although it is much older , it is one of the oldest libraries in the world and contains one of the most significant collections of historical texts . It has 75,000 codices from throughout history , as well as 1.1 million printed books , which include some 8,500 incunabula . The Vatican Library is a research library for history , law , philosophy , science and theology . The Vatican Library is open to anyone who can document their qualifications and research needs . Photocopies for private study of pages from books published between 1801 and 1990 can be requested in person or by mail . In March 2014 , the Vatican Library began an initial four - year project of digitising its collection of manuscripts , to be made available online . The Vatican Secret Archives were separated from the library at the beginning of the 17th century ; they contain another 150,000 items . Scholars have traditionally divided the history of the library into five periods , Pre - Lateran , Lateran , Avignon , Pre - Vatican and Vatican . The Pre - Lateran period , comprising the initial days of the library , dated from the earliest days of the Church . Only a handful of volumes survive from this period , though some are very significant .], start_position: 31, end_position: 37"
      ]
     },
     "execution_count": 4,
     "metadata": {},
     "output_type": "execute_result"
    }
   ],
   "source": [
    "eval_examples[0]"
   ]
  },
  {
   "cell_type": "code",
   "execution_count": 5,
   "metadata": {},
   "outputs": [
    {
     "name": "stdout",
     "output_type": "stream",
     "text": [
      "108647\n",
      "['What rumor had they heard? captured officers recently escaped [SEP]', 'Where had they fled from? a prison nearby [SEP]', 'Who was in the hall?']\n",
      "['Who', 'was', 'in', 'the', 'hall?']\n",
      "5\n",
      "When was the Vat formally opened?\n",
      "1.0\n",
      "what is the library for?\n",
      "1.0\n",
      "for what subjects?\n",
      "0.0\n",
      "and?\n",
      "0.0\n",
      "what was started in 2014?\n",
      "1.0\n",
      "how do scholars divide the library?\n",
      "1.0\n",
      "how many?\n",
      "0.0\n",
      "what is the official name of the Vat?\n",
      "1.0\n",
      "where is it?\n",
      "0.0\n",
      "how many printed books does it contain?\n",
      "1.0\n",
      "when were the Secret Archives moved from the rest of the library?\n",
      "1.0\n",
      "how many items are in this secret collection?\n",
      "1.0\n",
      "Can anyone use this library?\n",
      "1.0\n",
      "what must be requested to view?\n",
      "1.0\n",
      "what must be requested in person or by mail?\n",
      "1.0\n",
      "of what books?\n",
      "0.0\n",
      "What is the Vat the library of?\n",
      "1.0\n",
      "How many books survived the Pre Lateran period?\n",
      "1.0\n",
      "what is the point of the project started in 2014?\n",
      "1.0\n",
      "what will this allow?\n",
      "0.0\n",
      "Where was the Auction held?\n",
      "1.0\n",
      "How much did they make?\n",
      "1.0\n",
      "How much did they expected?\n",
      "1.0\n",
      "WHo buy the Jackson Glove\n",
      "1.0\n",
      "Where was the buyer of the glove from?\n",
      "1.0\n",
      "What did Venters call Lassiter?\n",
      "1.0\n",
      "Who asked Lassiter to be their rider?\n",
      "1.0\n",
      "Did he agree?\n",
      "0.0\n",
      "Why did she ask him?\n",
      "1.0\n",
      "Did she tell him as much?\n",
      "1.0\n"
     ]
    }
   ],
   "source": [
    "## trial: checking for question length\n",
    "\n",
    "print(len(eval_examples))\n",
    "eg = eval_examples[1888]\n",
    "#print(eg.question_text)\n",
    "print(eg.question_text)\n",
    "question = eg.question_text[len(eg.question_text)-1]\n",
    "print(question.split())\n",
    "print(len(question.split()))\n",
    "\n",
    "question_length_labels = np.zeros(len(eval_examples[:30])) # assume no_lexical match to start with\n",
    "\n",
    "for i,eg in enumerate(eval_examples[:30]):\n",
    "    question = eg.question_text[len(eg.question_text)-1]\n",
    "    question_length = len(question.split())\n",
    "    print(question)\n",
    "    question_length_labels[i] = 0 if question_length<5 else 1\n",
    "    print(question_length_labels[i])\n"
   ]
  },
  {
   "cell_type": "code",
   "execution_count": 6,
   "metadata": {},
   "outputs": [],
   "source": [
    "question_length_labels = np.zeros(len(eval_examples)) # assume no_lexical match to start with\n",
    "\n",
    "for i,eg in enumerate(eval_examples):\n",
    "    question = eg.question_text[len(eg.question_text)-1]\n",
    "    question_length = len(question.split())\n",
    "    #print(question)\n",
    "    question_length_labels[i] = 0 if question_length<5 else 1\n",
    "    #print(question_length_labels[i])"
   ]
  },
  {
   "cell_type": "code",
   "execution_count": 7,
   "metadata": {},
   "outputs": [
    {
     "name": "stdout",
     "output_type": "stream",
     "text": [
      "62.95% of questions have a length > 4\n"
     ]
    }
   ],
   "source": [
    "percentage_big_questions = sum(question_length_labels)/len(question_length_labels)*100\n",
    "print('{:.2f}% of questions have a length > 4'.format(percentage_big_questions))"
   ]
  },
  {
   "cell_type": "code",
   "execution_count": 8,
   "metadata": {},
   "outputs": [],
   "source": [
    "np.save('../outputs/labels_of_coqa_question_length_train_data.npy',question_length_labels) "
   ]
  },
  {
   "cell_type": "code",
   "execution_count": 9,
   "metadata": {},
   "outputs": [
    {
     "name": "stdout",
     "output_type": "stream",
     "text": [
      "61.99% of questions have a length > 4\n"
     ]
    }
   ],
   "source": [
    "percentage_big_questions = sum(question_length_labels[:25000])/len(question_length_labels[:25000])*100\n",
    "print('{:.2f}% of questions have a length > 4'.format(percentage_big_questions))"
   ]
  },
  {
   "cell_type": "code",
   "execution_count": null,
   "metadata": {},
   "outputs": [],
   "source": []
  }
 ],
 "metadata": {
  "kernelspec": {
   "display_name": "Python 3",
   "language": "python",
   "name": "python3"
  },
  "language_info": {
   "codemirror_mode": {
    "name": "ipython",
    "version": 3
   },
   "file_extension": ".py",
   "mimetype": "text/x-python",
   "name": "python",
   "nbconvert_exporter": "python",
   "pygments_lexer": "ipython3",
   "version": "3.8.3"
  }
 },
 "nbformat": 4,
 "nbformat_minor": 4
}
