{
 "cells": [
  {
   "cell_type": "code",
   "execution_count": 1,
   "metadata": {},
   "outputs": [],
   "source": [
    "import numpy as np\n",
    "import torch"
   ]
  },
  {
   "cell_type": "code",
   "execution_count": 2,
   "metadata": {},
   "outputs": [],
   "source": [
    "eval_examples = torch.load('../outputs/coqa_examples_train_data.pt')"
   ]
  },
  {
   "cell_type": "code",
   "execution_count": 3,
   "metadata": {},
   "outputs": [
    {
     "name": "stdout",
     "output_type": "stream",
     "text": [
      "108647\n",
      "<class 'list'>\n"
     ]
    }
   ],
   "source": [
    "print(len(eval_examples))\n",
    "print(type(eval_examples))"
   ]
  },
  {
   "cell_type": "markdown",
   "metadata": {},
   "source": [
    "### Check the question category"
   ]
  },
  {
   "cell_type": "code",
   "execution_count": 4,
   "metadata": {},
   "outputs": [
    {
     "data": {
      "text/plain": [
       "qas_id: 3wj1oxy92agboo5nlq4r7bndc3t8a8 4, question_text: ['How much did they make? $2 million. [SEP]', 'How much did they expected? $120,000 [SEP]', 'WHo buy the Jackson Glove'], doc_tokens: [New York ( CNN ) - - More than 80 Michael Jackson collectibles - - including the late pop star 's famous rhinestone - studded glove from a 1983 performance - - were auctioned off Saturday , reaping a total $ 2 million . Profits from the auction at the Hard Rock Cafe in New York 's Times Square crushed pre - sale expectations of only $ 120,000 in sales . The highly prized memorabilia , which included items spanning the many stages of Jackson 's career , came from more than 30 fans , associates and family members , who contacted Julien 's Auctions to sell their gifts and mementos of the singer . Jackson 's flashy glove was the big - ticket item of the night , fetching $ 420,000 from a buyer in Hong Kong , China . Jackson wore the glove at a 1983 performance during \" Motown 25 , \" an NBC special where he debuted his revolutionary moonwalk . Fellow Motown star Walter \" Clyde \" Orange of the Commodores , who also performed in the special 26 years ago , said he asked for Jackson 's autograph at the time , but Jackson gave him the glove instead . \" The legacy that [ Jackson ] left behind is bigger than life for me , \" Orange said . \" I hope that through that glove people can see what he was trying to say in his music and what he said in his music . \" Orange said he plans to give a portion of the proceeds to charity . Hoffman Ma , who bought the glove on behalf of Ponte 16 Resort in Macau , paid a 25 percent buyer 's premium , which was tacked onto all final sales over $ 50,000 . Winners of items less than $ 50,000 paid a 20 percent premium .], start_position: 268, end_position: 269"
      ]
     },
     "execution_count": 4,
     "metadata": {},
     "output_type": "execute_result"
    }
   ],
   "source": [
    "eval_examples[23]"
   ]
  },
  {
   "cell_type": "code",
   "execution_count": 5,
   "metadata": {},
   "outputs": [],
   "source": [
    "def check_question_category(question):\n",
    "    \"\"\" Returns 0 if the first word in the question is 'What'\n",
    "        Returns 1 if the first word in the question is 'Who'/'Where'/'when'\n",
    "        else returns 2\n",
    "    \"\"\"\n",
    "    first_word = question.split()[0]\n",
    "    if first_word.lower() == 'what':\n",
    "        return 0\n",
    "    elif first_word.lower()=='who' or first_word.lower()=='where' or first_word.lower()=='when':\n",
    "        return 1\n",
    "    else:\n",
    "        return 2"
   ]
  },
  {
   "cell_type": "code",
   "execution_count": 6,
   "metadata": {},
   "outputs": [],
   "source": [
    "def removePunctuation(string): \n",
    "    \"\"\"  Removes punctuation marks from\n",
    "     a given string.\n",
    "     Reference : https://www.geeksforgeeks.org/removing-punctuations-given-string/\n",
    "     Eg.\n",
    "     removePunctuation('Coming for dinner?')\n",
    "     will return\n",
    "     'Coming for dinner'\n",
    "     \n",
    "     \"\"\"\n",
    "    # punctuation marks \n",
    "    #punctuations = '''!()-[]{};:'\"\\,<>./?@#$%^&*_~'''\n",
    "    punctuations = '''!()[]{};:'\"\\,<>./?@#$%^&*_~'''\n",
    "    \n",
    "  \n",
    "    # traverse the given string and if any punctuation \n",
    "    # marks occur replace it with null \n",
    "    for x in string.lower(): \n",
    "        if x in punctuations: \n",
    "            string = string.replace(x, \"\")    \n",
    "  \n",
    "    # Print string without punctuation \n",
    "    return string "
   ]
  },
  {
   "cell_type": "code",
   "execution_count": 7,
   "metadata": {},
   "outputs": [
    {
     "name": "stdout",
     "output_type": "stream",
     "text": [
      "108647\n",
      "qas_id: 3wj1oxy92agboo5nlq4r7bndc3t8a8 4, question_text: ['How much did they make? $2 million. [SEP]', 'How much did they expected? $120,000 [SEP]', 'WHo buy the Jackson Glove'], doc_tokens: [New York ( CNN ) - - More than 80 Michael Jackson collectibles - - including the late pop star 's famous rhinestone - studded glove from a 1983 performance - - were auctioned off Saturday , reaping a total $ 2 million . Profits from the auction at the Hard Rock Cafe in New York 's Times Square crushed pre - sale expectations of only $ 120,000 in sales . The highly prized memorabilia , which included items spanning the many stages of Jackson 's career , came from more than 30 fans , associates and family members , who contacted Julien 's Auctions to sell their gifts and mementos of the singer . Jackson 's flashy glove was the big - ticket item of the night , fetching $ 420,000 from a buyer in Hong Kong , China . Jackson wore the glove at a 1983 performance during \" Motown 25 , \" an NBC special where he debuted his revolutionary moonwalk . Fellow Motown star Walter \" Clyde \" Orange of the Commodores , who also performed in the special 26 years ago , said he asked for Jackson 's autograph at the time , but Jackson gave him the glove instead . \" The legacy that [ Jackson ] left behind is bigger than life for me , \" Orange said . \" I hope that through that glove people can see what he was trying to say in his music and what he said in his music . \" Orange said he plans to give a portion of the proceeds to charity . Hoffman Ma , who bought the glove on behalf of Ponte 16 Resort in Macau , paid a 25 percent buyer 's premium , which was tacked onto all final sales over $ 50,000 . Winners of items less than $ 50,000 paid a 20 percent premium .], start_position: 268, end_position: 269\n",
      "WHo buy the Jackson Glove\n",
      "WHo\n"
     ]
    }
   ],
   "source": [
    "## trial: checking for lexical match between rational and question\n",
    "\n",
    "print(len(eval_examples))\n",
    "eg = eval_examples[23]\n",
    "print(eg)\n",
    "new_question = removePunctuation(eg.question_text[-1])\n",
    "print(new_question)\n",
    "print(new_question.split()[0])\n"
   ]
  },
  {
   "cell_type": "code",
   "execution_count": 8,
   "metadata": {},
   "outputs": [],
   "source": [
    "question_category_labels = np.zeros(len(eval_examples))\n",
    "for i,eg in enumerate(eval_examples):\n",
    "    question = eg.question_text[-1]\n",
    "    new_question = removePunctuation(question) \n",
    "    question_category_labels[i] = check_question_category(question)"
   ]
  },
  {
   "cell_type": "code",
   "execution_count": 9,
   "metadata": {},
   "outputs": [
    {
     "name": "stdout",
     "output_type": "stream",
     "text": [
      "28.45% of questions start with 'what\n",
      "22.73% of questions start with 'who' or 'where' or 'when'\n",
      "48.82% of questions start with other misc words\n"
     ]
    }
   ],
   "source": [
    "percentage_what = sum(question_category_labels==0)/len(question_category_labels)*100\n",
    "print('{:.2f}% of questions start with \\'what'.format(percentage_what))\n",
    "percentage_who = sum(question_category_labels==1)/len(question_category_labels)*100\n",
    "print('{:.2f}% of questions start with \\'who\\' or \\'where\\' or \\'when\\''.format(percentage_who))\n",
    "percentage_others = sum(question_category_labels==2)/len(question_category_labels)*100\n",
    "print('{:.2f}% of questions start with other misc words'.format(percentage_others))"
   ]
  },
  {
   "cell_type": "code",
   "execution_count": 10,
   "metadata": {},
   "outputs": [],
   "source": [
    "np.save('../outputs/labels_of_coqa_question_category_train_data.npy',question_category_labels) "
   ]
  },
  {
   "cell_type": "code",
   "execution_count": 11,
   "metadata": {},
   "outputs": [
    {
     "data": {
      "text/plain": [
       "108647"
      ]
     },
     "execution_count": 11,
     "metadata": {},
     "output_type": "execute_result"
    }
   ],
   "source": [
    "question_category_labels.size"
   ]
  },
  {
   "cell_type": "code",
   "execution_count": 12,
   "metadata": {},
   "outputs": [
    {
     "name": "stdout",
     "output_type": "stream",
     "text": [
      "28.61% of questions start with 'what\n",
      "22.14% of questions start with 'who' or 'where' or 'when'\n",
      "49.26% of questions start with other misc words\n"
     ]
    }
   ],
   "source": [
    "percentage_what = sum(question_category_labels[:25000]==0)/len(question_category_labels[:25000])*100\n",
    "print('{:.2f}% of questions start with \\'what'.format(percentage_what))\n",
    "percentage_who = sum(question_category_labels[:25000]==1)/len(question_category_labels[:25000])*100\n",
    "print('{:.2f}% of questions start with \\'who\\' or \\'where\\' or \\'when\\''.format(percentage_who))\n",
    "percentage_others = sum(question_category_labels[:25000]==2)/len(question_category_labels[:25000])*100\n",
    "print('{:.2f}% of questions start with other misc words'.format(percentage_others))"
   ]
  }
 ],
 "metadata": {
  "kernelspec": {
   "display_name": "Python 3",
   "language": "python",
   "name": "python3"
  },
  "language_info": {
   "codemirror_mode": {
    "name": "ipython",
    "version": 3
   },
   "file_extension": ".py",
   "mimetype": "text/x-python",
   "name": "python",
   "nbconvert_exporter": "python",
   "pygments_lexer": "ipython3",
   "version": "3.8.3"
  }
 },
 "nbformat": 4,
 "nbformat_minor": 4
}
