{
 "cells": [
  {
   "cell_type": "code",
   "execution_count": 1,
   "metadata": {},
   "outputs": [],
   "source": [
    "import numpy as np\n",
    "from tqdm import tqdm\n",
    "import torch"
   ]
  },
  {
   "cell_type": "code",
   "execution_count": 2,
   "metadata": {},
   "outputs": [],
   "source": [
    "eval_examples = torch.load('../outputs/coqa_examples_train_data.pt')"
   ]
  },
  {
   "cell_type": "code",
   "execution_count": 3,
   "metadata": {},
   "outputs": [
    {
     "name": "stdout",
     "output_type": "stream",
     "text": [
      "<class 'list'>\n"
     ]
    }
   ],
   "source": [
    "len(eval_examples)\n",
    "print(type(eval_examples))"
   ]
  },
  {
   "cell_type": "markdown",
   "metadata": {},
   "source": [
    "### Check if there is a lexical match between the question and the given rational"
   ]
  },
  {
   "cell_type": "code",
   "execution_count": 4,
   "metadata": {},
   "outputs": [
    {
     "data": {
      "text/plain": [
       "qas_id: 3zotghdk5ibi9cex97fepx7jetpso7 1, question_text: ['When was the Vat formally opened?'], doc_tokens: [The Vatican Apostolic Library ( ) , more commonly called the Vatican Library or simply the Vat , is the library of the Holy See , located in Vatican City . Formally established in 1475 , although it is much older , it is one of the oldest libraries in the world and contains one of the most significant collections of historical texts . It has 75,000 codices from throughout history , as well as 1.1 million printed books , which include some 8,500 incunabula . The Vatican Library is a research library for history , law , philosophy , science and theology . The Vatican Library is open to anyone who can document their qualifications and research needs . Photocopies for private study of pages from books published between 1801 and 1990 can be requested in person or by mail . In March 2014 , the Vatican Library began an initial four - year project of digitising its collection of manuscripts , to be made available online . The Vatican Secret Archives were separated from the library at the beginning of the 17th century ; they contain another 150,000 items . Scholars have traditionally divided the history of the library into five periods , Pre - Lateran , Lateran , Avignon , Pre - Vatican and Vatican . The Pre - Lateran period , comprising the initial days of the library , dated from the earliest days of the Church . Only a handful of volumes survive from this period , though some are very significant .], start_position: 31, end_position: 37"
      ]
     },
     "execution_count": 4,
     "metadata": {},
     "output_type": "execute_result"
    }
   ],
   "source": [
    "eval_examples[0]"
   ]
  },
  {
   "cell_type": "code",
   "execution_count": 5,
   "metadata": {},
   "outputs": [],
   "source": [
    "def removePunctuation(string): \n",
    "    \"\"\"  Removes punctuation marks from\n",
    "     a given string.\n",
    "     Reference : https://www.geeksforgeeks.org/removing-punctuations-given-string/\n",
    "     Eg.\n",
    "     removePunctuation('Coming for dinner?')\n",
    "     will return\n",
    "     'Coming for dinner'\n",
    "     \n",
    "     \"\"\"\n",
    "    # punctuation marks \n",
    "    #punctuations = '''!()-[]{};:'\"\\,<>./?@#$%^&*_~'''\n",
    "    punctuations = '''!()[]{};:'\"\\,<>./?@#$%^&*_~'''\n",
    "    \n",
    "  \n",
    "    # traverse the given string and if any punctuation \n",
    "    # marks occur replace it with null \n",
    "    for x in string.lower(): \n",
    "        if x in punctuations: \n",
    "            string = string.replace(x, \"\")    \n",
    "  \n",
    "    # Print string without punctuation \n",
    "    return string "
   ]
  },
  {
   "cell_type": "code",
   "execution_count": 6,
   "metadata": {},
   "outputs": [],
   "source": [
    "def check_lexical_match(question_words,rational,words_to_ignore, print_found=False):\n",
    "    \"\"\" Returns True if any of the words in the rational is present wholly \n",
    "        or as a prefix in any of the words in question_words, after \n",
    "        ignoring words_to_ignore. Else it returns False.\n",
    "    \"\"\"\n",
    "    for word in rational:\n",
    "        if word.lower() not in words_to_ignore:\n",
    "            for q in question_words:  \n",
    "                if(word.lower().startswith(q.lower())): # Does any word in the question form prefix to anyword in the rational (from the passage)?\n",
    "                    if(print_found):\n",
    "                        print('{} found'.format(word))\n",
    "                    return True\n",
    "                    break\n",
    "    return False"
   ]
  },
  {
   "cell_type": "code",
   "execution_count": 7,
   "metadata": {},
   "outputs": [
    {
     "name": "stdout",
     "output_type": "stream",
     "text": [
      "108647\n",
      "['Did he ever stop to learn? No [SEP]', 'Did he have any family support on learning? yes [SEP]', 'Where did he get new ideas from?']\n",
      "Where did he get new ideas from?\n",
      "Where did he get new ideas from\n",
      "['Where', 'did', 'he', 'get', 'new', 'ideas', 'from']\n",
      "From reading books\n",
      "['Every', 'time', 'he', 'gets', 'new', 'ideas', 'from', 'the']\n",
      "gets found\n",
      "True\n"
     ]
    }
   ],
   "source": [
    "## trial: checking for lexical match between rational and question\n",
    "\n",
    "print(len(eval_examples))\n",
    "eg = eval_examples[1788]\n",
    "#print(eg.question_text)\n",
    "start = eg.rational_start_position\n",
    "end = eg.rational_end_position\n",
    "print(eg.question_text)\n",
    "question = eg.question_text[len(eg.question_text)-1]\n",
    "print(question)\n",
    "new_question = removePunctuation(question) \n",
    "print(new_question)\n",
    "question_words = new_question.split()\n",
    "print(question_words)\n",
    "print(eg.orig_answer_text)\n",
    "rational = eg.doc_tokens[start:end]\n",
    "print(rational)\n",
    "words_to_ignore = ['a','the','on','in','he','she','by','at','for','of','and',\n",
    "                   'him','her','they','it','to','from']\n",
    "words_to_ignore = [w.lower() for w in words_to_ignore]\n",
    "print(check_lexical_match(question_words,rational, words_to_ignore,print_found=True))"
   ]
  },
  {
   "cell_type": "code",
   "execution_count": 8,
   "metadata": {},
   "outputs": [],
   "source": [
    "lexical_match_labels = np.zeros(len(eval_examples)) # assume no_lexical match to start with\n",
    "words_to_ignore = ['a','the','on','in','he','she','by','at','for','of','and',\n",
    "                   'him','her','they','it','to','from']\n",
    "for i,eg in enumerate(eval_examples):\n",
    "    question = eg.question_text[len(eg.question_text)-1]\n",
    "    new_question = removePunctuation(question) \n",
    "    question_words = new_question.split()\n",
    "    rational = eg.doc_tokens[eg.rational_start_position:eg.rational_end_position]\n",
    "    lexical_match_labels[i] = check_lexical_match(question_words,rational,words_to_ignore)"
   ]
  },
  {
   "cell_type": "code",
   "execution_count": 9,
   "metadata": {},
   "outputs": [
    {
     "name": "stdout",
     "output_type": "stream",
     "text": [
      "41.46% of questions have a lexical match with their rationals\n"
     ]
    }
   ],
   "source": [
    "percentage_lexical_match = sum(lexical_match_labels)/len(lexical_match_labels)*100\n",
    "print('{:.2f}% of questions have a lexical match with their rationals'.format(percentage_lexical_match))"
   ]
  },
  {
   "cell_type": "code",
   "execution_count": 10,
   "metadata": {},
   "outputs": [],
   "source": [
    "np.save('../outputs/labels_of_coqa_lexical_match_train_data.npy',lexical_match_labels) "
   ]
  },
  {
   "cell_type": "code",
   "execution_count": 11,
   "metadata": {},
   "outputs": [
    {
     "data": {
      "text/plain": [
       "0.0"
      ]
     },
     "execution_count": 11,
     "metadata": {},
     "output_type": "execute_result"
    }
   ],
   "source": [
    "lexical_match_labels[2]"
   ]
  },
  {
   "cell_type": "code",
   "execution_count": 12,
   "metadata": {},
   "outputs": [
    {
     "name": "stdout",
     "output_type": "stream",
     "text": [
      "40.62% of questions have a lexical match with their rationals\n"
     ]
    }
   ],
   "source": [
    "percentage_lexical_match = sum(lexical_match_labels[:25000])/len(lexical_match_labels[:25000])*100\n",
    "print('{:.2f}% of questions have a lexical match with their rationals'.format(percentage_lexical_match))"
   ]
  },
  {
   "cell_type": "code",
   "execution_count": null,
   "metadata": {},
   "outputs": [],
   "source": []
  }
 ],
 "metadata": {
  "kernelspec": {
   "display_name": "Python 3",
   "language": "python",
   "name": "python3"
  },
  "language_info": {
   "codemirror_mode": {
    "name": "ipython",
    "version": 3
   },
   "file_extension": ".py",
   "mimetype": "text/x-python",
   "name": "python",
   "nbconvert_exporter": "python",
   "pygments_lexer": "ipython3",
   "version": "3.8.3"
  }
 },
 "nbformat": 4,
 "nbformat_minor": 4
}
