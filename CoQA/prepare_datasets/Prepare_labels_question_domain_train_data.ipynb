{
 "cells": [
  {
   "cell_type": "code",
   "execution_count": 1,
   "metadata": {},
   "outputs": [],
   "source": [
    "import numpy as np\n",
    "import pandas as pd\n",
    "import json\n",
    "from tqdm import tqdm"
   ]
  },
  {
   "cell_type": "code",
   "execution_count": 2,
   "metadata": {},
   "outputs": [
    {
     "name": "stdout",
     "output_type": "stream",
     "text": [
      "No. of paragraphs 7199\n"
     ]
    }
   ],
   "source": [
    "DATA_PATH = '../Data/COQA/coqa-train-v1.0.json'\n",
    "#Here CB stands for contextual bandit\n",
    "#CB_data_loader = data.DataLoader(CB_dataset, batch_size=len(CB_dataset), shuffle=True)\n",
    "with open(DATA_PATH, \"r\", encoding='utf-8') as reader:\n",
    "    CB_dataset = json.load(reader)\n",
    "print('No. of paragraphs', len(CB_dataset['data']))"
   ]
  },
  {
   "cell_type": "code",
   "execution_count": 3,
   "metadata": {},
   "outputs": [
    {
     "name": "stdout",
     "output_type": "stream",
     "text": [
      "<class 'list'>\n",
      "108647\n"
     ]
    }
   ],
   "source": [
    "final_ideal_policy = []\n",
    "sum_turns = 0\n",
    "print(type(final_ideal_policy))\n",
    "for entries in CB_dataset['data']:\n",
    "    num_turns = len(entries['questions'])\n",
    "    sum_turns+=num_turns\n",
    "    if entries['source']=='wikipedia':\n",
    "        policy=0\n",
    "    elif entries['source']=='gutenberg':\n",
    "        policy=1\n",
    "    else:\n",
    "        #print(entries['source'])\n",
    "        policy=2\n",
    "    policies = np.repeat(policy,num_turns)\n",
    "    final_ideal_policy = final_ideal_policy + policies.tolist()\n",
    "print(len(final_ideal_policy))\n",
    "#print(final_ideal_policy)"
   ]
  },
  {
   "cell_type": "code",
   "execution_count": 4,
   "metadata": {},
   "outputs": [],
   "source": [
    "np.save('../outputs/labels_of_coqa_question_domain_train_data.npy', final_ideal_policy)"
   ]
  },
  {
   "cell_type": "code",
   "execution_count": 5,
   "metadata": {},
   "outputs": [],
   "source": [
    "question_domain_labels = final_ideal_policy"
   ]
  },
  {
   "cell_type": "code",
   "execution_count": 22,
   "metadata": {},
   "outputs": [
    {
     "name": "stdout",
     "output_type": "stream",
     "text": [
      "24.59% of questions are from wiki\n",
      "23.59% of questions are from Lit\n",
      "51.82% of questions are from other domains\n"
     ]
    }
   ],
   "source": [
    "percentage_wiki = sum(np.array(question_domain_labels[:25000])==0)/len(question_domain_labels[:25000])*100\n",
    "print('{:.2f}% of questions are from wiki'.format(percentage_wiki))\n",
    "percentage_lit = sum(np.array(question_domain_labels[:25000])==1)/len(question_domain_labels[:25000])*100\n",
    "print('{:.2f}% of questions are from Lit'.format(percentage_lit))\n",
    "percentage_others = sum(np.array(question_domain_labels[:25000])==2)/len(question_domain_labels[:25000])*100\n",
    "print('{:.2f}% of questions are from other domains'.format(percentage_others))"
   ]
  }
 ],
 "metadata": {
  "kernelspec": {
   "display_name": "Python 3",
   "language": "python",
   "name": "python3"
  },
  "language_info": {
   "codemirror_mode": {
    "name": "ipython",
    "version": 3
   },
   "file_extension": ".py",
   "mimetype": "text/x-python",
   "name": "python",
   "nbconvert_exporter": "python",
   "pygments_lexer": "ipython3",
   "version": "3.8.3"
  }
 },
 "nbformat": 4,
 "nbformat_minor": 4
}
